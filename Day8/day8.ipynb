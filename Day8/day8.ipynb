{
 "cells": [
  {
   "cell_type": "markdown",
   "metadata": {},
   "source": [
    "Part 1"
   ]
  },
  {
   "cell_type": "code",
   "execution_count": 10,
   "metadata": {},
   "outputs": [],
   "source": [
    "f = open('input_d8.txt',\"r\")\n",
    "line = f.readline()\n",
    "l = [i.strip() for i in line.split(',')]\n",
    "s = l[0]"
   ]
  },
  {
   "cell_type": "code",
   "execution_count": 11,
   "metadata": {},
   "outputs": [],
   "source": [
    "def layers(picture, width, length):\n",
    "    layer = [picture[i:i+width*length] for i in range(0, len(picture), width*length)]\n",
    "    zeros = []\n",
    "    for i in layer:\n",
    "        zeros.append(i.count('0'))\n",
    "    min_zeros = zeros.index(min(zeros))\n",
    "    return layer[min_zeros].count('1')*layer[min_zeros].count('2')"
   ]
  },
  {
   "cell_type": "code",
   "execution_count": 13,
   "metadata": {},
   "outputs": [
    {
     "data": {
      "text/plain": [
       "1742"
      ]
     },
     "execution_count": 13,
     "metadata": {},
     "output_type": "execute_result"
    }
   ],
   "source": [
    "layers(s,25,6)"
   ]
  },
  {
   "cell_type": "markdown",
   "metadata": {},
   "source": [
    "Part 2"
   ]
  },
  {
   "cell_type": "code",
   "execution_count": 38,
   "metadata": {},
   "outputs": [],
   "source": [
    "import matplotlib.pyplot as plt\n",
    "import numpy as np"
   ]
  },
  {
   "cell_type": "code",
   "execution_count": 18,
   "metadata": {},
   "outputs": [],
   "source": [
    "def message(picture, width, length):\n",
    "    layer = [picture[i:i+width*length] for i in range(0, len(picture), width*length)]\n",
    "    final_pixels = []\n",
    "    for i in range(width*length):\n",
    "        for j in layer:\n",
    "            pixel = j[i]\n",
    "            if pixel!='2':\n",
    "                final_pixels.append(pixel)\n",
    "                break\n",
    "    return final_pixels"
   ]
  },
  {
   "cell_type": "code",
   "execution_count": 42,
   "metadata": {},
   "outputs": [
    {
     "name": "stdout",
     "output_type": "stream",
     "text": [
      "0110000110100011111001100\n",
      "1001000010100011000010010\n",
      "1000000010010101110010010\n",
      "1011000010001001000011110\n",
      "1001010010001001000010010\n",
      "0111001100001001111010010\n"
     ]
    }
   ],
   "source": [
    "cells = []\n",
    "for i in range(6):\n",
    "    print(''.join(message(s, 25, 6)[i*25:i*25+25]))\n",
    "    cells.append(list(map(int, message(s, 25, 6)[i*25:i*25+25])))"
   ]
  },
  {
   "cell_type": "code",
   "execution_count": 46,
   "metadata": {},
   "outputs": [
    {
     "data": {
      "text/plain": [
       "<matplotlib.image.AxesImage at 0x15cb6f94d30>"
      ]
     },
     "execution_count": 46,
     "metadata": {},
     "output_type": "execute_result"
    },
    {
     "data": {
      "image/png": "[encoded data removed]",
      "text/plain": [
       "<Figure size 432x288 with 1 Axes>"
      ]
     },
     "metadata": {
      "needs_background": "light"
     },
     "output_type": "display_data"
    }
   ],
   "source": [
    "a = np.ma.masked_where(np.array(cells) == 0, np.array(cells))\n",
    "\n",
    "cmap = plt.cm.OrRd\n",
    "cmap.set_bad(color='black')\n",
    "\n",
    "plt.imshow(a, interpolation='none', cmap=cmap)"
   ]
  }
 ],
 "metadata": {
  "kernelspec": {
   "display_name": "Python 3",
   "language": "python",
   "name": "python3"
  },
  "language_info": {
   "codemirror_mode": {
    "name": "ipython",
    "version": 3
   },
   "file_extension": ".py",
   "mimetype": "text/x-python",
   "name": "python",
   "nbconvert_exporter": "python",
   "pygments_lexer": "ipython3",
   "version": "3.7.0"
  }
 },
 "nbformat": 4,
 "nbformat_minor": 2
}

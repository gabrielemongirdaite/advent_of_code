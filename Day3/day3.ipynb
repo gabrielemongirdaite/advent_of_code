{
 "cells": [
  {
   "cell_type": "markdown",
   "metadata": {},
   "source": [
    "Part 1"
   ]
  },
  {
   "cell_type": "code",
   "execution_count": 1,
   "metadata": {},
   "outputs": [],
   "source": [
    "l = []\n",
    "with open('input_d3.txt', 'r') as f:\n",
    "    for line in f:\n",
    "        l.append([i.strip() for i in line.split(',')])"
   ]
  },
  {
   "cell_type": "code",
   "execution_count": 2,
   "metadata": {},
   "outputs": [],
   "source": [
    "first = l[0]\n",
    "second = l[1]"
   ]
  },
  {
   "cell_type": "code",
   "execution_count": 3,
   "metadata": {},
   "outputs": [],
   "source": [
    "import matplotlib.pyplot as plt"
   ]
  },
  {
   "cell_type": "code",
   "execution_count": 4,
   "metadata": {},
   "outputs": [],
   "source": [
    "def coordinates(l):\n",
    "    coord = [(0,0)]\n",
    "    for idx, i in enumerate(l):\n",
    "        if i[0] == 'R':\n",
    "            c = (coord[idx][0]+int(i[1:]), coord[idx][1])\n",
    "        elif i[0] == 'L':\n",
    "            c = (coord[idx][0]-int(i[1:]), coord[idx][1])\n",
    "        elif i[0] == 'U':\n",
    "            c = (coord[idx][0], coord[idx][1]+int(i[1:]))\n",
    "        elif i[0] == 'D':\n",
    "            c = (coord[idx][0], coord[idx][1]-int(i[1:]))\n",
    "        coord.append(c)\n",
    "    return coord"
   ]
  },
  {
   "cell_type": "code",
   "execution_count": 5,
   "metadata": {},
   "outputs": [
    {
     "data": {
      "image/png": "[encoded data removed]",
      "text/plain": [
       "<Figure size 432x288 with 1 Axes>"
      ]
     },
     "metadata": {
      "needs_background": "light"
     },
     "output_type": "display_data"
    }
   ],
   "source": [
    "plt.plot(*zip(*coordinates(first)))\n",
    "plt.plot(*zip(*coordinates(second)))\n",
    "plt.show()"
   ]
  },
  {
   "cell_type": "code",
   "execution_count": 6,
   "metadata": {},
   "outputs": [],
   "source": [
    "def intersection_place(first, second):\n",
    "    l = []\n",
    "    for i in range(len(first)-1):\n",
    "        x1 = first[i][0]\n",
    "        x2 = first[i+1][0]\n",
    "        y1 = first[i][1]\n",
    "        y2 = first[i+1][1]\n",
    "        if x1<x2 and y1==y2:\n",
    "            for j in range(len(second)-1):\n",
    "                z1 = second[j][0]\n",
    "                z2 = second[j+1][0]\n",
    "                u1 = second[j][1]\n",
    "                u2 = second[j+1][1]\n",
    "                if z1==z2 and z1<x2 and z1>x1 and ((u1<y1 and u2>y1) or (u1>y1 and u2<y1)):\n",
    "                    l.append([(x1,y1), (x2,y2), (z1,u1), (z2,u2)])\n",
    "        if x1>x2 and y1==y2:\n",
    "            for j in range(len(second)-1):\n",
    "                z1 = second[j][0]\n",
    "                z2 = second[j+1][0]\n",
    "                u1 = second[j][1]\n",
    "                u2 = second[j+1][1]\n",
    "                if z1==z2 and z1>x2 and z1<x1 and ((u1<y1 and u2>y1) or (u1>y1 and u2<y1)):\n",
    "                    l.append([(x1,y1), (x2,y2), (z1,u1), (z2,u2)])\n",
    "        if x1==x2 and y1<y2:\n",
    "            for j in range(len(second)-1):\n",
    "                z1 = second[j][0]\n",
    "                z2 = second[j+1][0]\n",
    "                u1 = second[j][1]\n",
    "                u2 = second[j+1][1]\n",
    "                if u1==u2 and u1<y2 and u1>y1 and ((z1<x1 and z2>x1) or (z1>x1 and z2<x1)):\n",
    "                    l.append([(x1,y1), (x2,y2), (z1,u1), (z2,u2)])\n",
    "        if x1==x2 and y1>y2:\n",
    "            for j in range(len(second)-1):\n",
    "                z1 = second[j][0]\n",
    "                z2 = second[j+1][0]\n",
    "                u1 = second[j][1]\n",
    "                u2 = second[j+1][1]\n",
    "                if u1==u2 and u1>y2 and u1<y1 and ((z1<x1 and z2>x1) or (z1>x1 and z2<x1)):\n",
    "                    l.append([(x1,y1), (x2,y2), (z1,u1), (z2,u2)])  \n",
    "    return l\n",
    "\n",
    "def intersection_points(l):\n",
    "    intersections = []\n",
    "    for idx, i in enumerate(l):\n",
    "        if l[idx][0][0]==l[idx][1][0]:\n",
    "            intersections.append((l[idx][0][0], l[idx][2][1]))\n",
    "        else:\n",
    "            intersections.append((l[idx][2][0], l[idx][0][1]))\n",
    "    return intersections\n",
    "\n",
    "def distance(intersections):\n",
    "    return min([sum(map(abs, el)) for el in intersections])"
   ]
  },
  {
   "cell_type": "code",
   "execution_count": 7,
   "metadata": {},
   "outputs": [
    {
     "data": {
      "text/plain": [
       "1626"
      ]
     },
     "execution_count": 7,
     "metadata": {},
     "output_type": "execute_result"
    }
   ],
   "source": [
    "distance(intersection_points(intersection_place(coordinates(first), coordinates(second))))"
   ]
  },
  {
   "cell_type": "raw",
   "metadata": {},
   "source": [
    "Part 2"
   ]
  },
  {
   "cell_type": "code",
   "execution_count": 8,
   "metadata": {},
   "outputs": [],
   "source": [
    "def steps(x,y,l,intersection):\n",
    "    steps_count = 0\n",
    "    for i, val in enumerate(l):\n",
    "        if l[i][0]==x and l[i][1]==y:\n",
    "            for j in range(i):\n",
    "                steps_count = steps_count + abs(l[j+1][0] - l[j][0]) + abs(l[j+1][1] - l[j][1])\n",
    "            return steps_count + abs(intersection[0] - l[i][0]) + abs(intersection[1] - l[i][1])\n",
    "            break"
   ]
  },
  {
   "cell_type": "code",
   "execution_count": 9,
   "metadata": {},
   "outputs": [],
   "source": [
    "steps_count = []\n",
    "for i in range(len(intersection_place(coordinates(first), coordinates(second)))):\n",
    "    intersection_point = intersection_points(intersection_place(coordinates(first), coordinates(second)))[i]\n",
    "    sum1 = steps(intersection_place(coordinates(first), coordinates(second))[i][0][0], \n",
    "                intersection_place(coordinates(first), coordinates(second))[i][0][1], \n",
    "                coordinates(first), \n",
    "                intersection_point)\n",
    "    sum2 = steps(intersection_place(coordinates(first), coordinates(second))[i][2][0], \n",
    "                intersection_place(coordinates(first), coordinates(second))[i][2][1], \n",
    "                coordinates(second), \n",
    "                intersection_point)\n",
    "    steps_count.append(sum1+sum2)"
   ]
  },
  {
   "cell_type": "code",
   "execution_count": 10,
   "metadata": {},
   "outputs": [
    {
     "data": {
      "text/plain": [
       "27330"
      ]
     },
     "execution_count": 10,
     "metadata": {},
     "output_type": "execute_result"
    }
   ],
   "source": [
    "min(steps_count)"
   ]
  }
 ],
 "metadata": {
  "kernelspec": {
   "display_name": "Python 3",
   "language": "python",
   "name": "python3"
  },
  "language_info": {
   "codemirror_mode": {
    "name": "ipython",
    "version": 3
   },
   "file_extension": ".py",
   "mimetype": "text/x-python",
   "name": "python",
   "nbconvert_exporter": "python",
   "pygments_lexer": "ipython3",
   "version": "3.7.0"
  }
 },
 "nbformat": 4,
 "nbformat_minor": 2
}

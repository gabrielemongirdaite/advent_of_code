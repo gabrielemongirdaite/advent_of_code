{
 "cells": [
  {
   "cell_type": "markdown",
   "metadata": {},
   "source": [
    "Part 1"
   ]
  },
  {
   "cell_type": "code",
   "execution_count": 1,
   "metadata": {},
   "outputs": [],
   "source": [
    "import pandas as pd\n",
    "import re\n",
    "from collections import defaultdict\n",
    "import operator"
   ]
  },
  {
   "cell_type": "code",
   "execution_count": 185,
   "metadata": {},
   "outputs": [],
   "source": [
    "d = defaultdict()\n",
    "with open(\"input_d14.txt\") as text:\n",
    "    for line in text:\n",
    "        (val, key) = line.strip().split(' => ')\n",
    "        d[key] = val"
   ]
  },
  {
   "cell_type": "code",
   "execution_count": 186,
   "metadata": {},
   "outputs": [],
   "source": [
    "f = defaultdict()\n",
    "for i in d.keys():\n",
    "    a = re.split('(\\d+)', d[i])\n",
    "    a.remove('')\n",
    "    e = defaultdict()\n",
    "    j=0\n",
    "    while j<len(a):\n",
    "        e[a[j+1].strip().replace(',','')] = int(a[j])\n",
    "        b=re.split('(\\d+)', i)\n",
    "        f[b[2].strip().replace(',','')] = [e, int(b[1])]\n",
    "        j = j+2"
   ]
  },
  {
   "cell_type": "code",
   "execution_count": 187,
   "metadata": {},
   "outputs": [],
   "source": [
    "h = {}\n",
    "while len(f['FUEL'][0])!=1:\n",
    "    g = []\n",
    "    for key in f['FUEL'][0]: \n",
    "        value = divmod(f['FUEL'][0][key], f[key][1])\n",
    "        if key in h:\n",
    "            \n",
    "            if f['FUEL'][0][key]<=h[key]:\n",
    "                #g.append((key,f['FUEL'][0][key]))\n",
    "                h[key] = h[key]-f['FUEL'][0][key]\n",
    "            else: \n",
    "                f['FUEL'][0][key] = f['FUEL'][0][key] - h[key]\n",
    "                value = divmod(f['FUEL'][0][key], f[key][1])\n",
    "                h[key]=0\n",
    "                for i in f[key][0]:\n",
    "                    g.append((i,(value[0]+(1 if value[1]!=0 else 0))*f[key][0][i]))\n",
    "                    h[key] = max(0,(value[0]+(1 if value[1]!=0 else 0))*f[key][1]-f['FUEL'][0][key])\n",
    "        else:\n",
    "            for i in f[key][0]:\n",
    "                g.append((i,(value[0]+(1 if value[1]!=0 else 0))*f[key][0][i]))\n",
    "                h[key] = max(0,(value[0]+(1 if value[1]!=0 else 0))*f[key][1]-f['FUEL'][0][key])\n",
    "        #print(g)\n",
    "    #print(h)\n",
    "    #print(g)\n",
    "    totals = defaultdict()\n",
    "    for key, value in g:\n",
    "        totals[key] = totals.get(key, 0) + value\n",
    "    f['FUEL'][0] = totals\n",
    "    "
   ]
  },
  {
   "cell_type": "code",
   "execution_count": 188,
   "metadata": {},
   "outputs": [
    {
     "data": {
      "text/plain": [
       "346961"
      ]
     },
     "execution_count": 188,
     "metadata": {},
     "output_type": "execute_result"
    }
   ],
   "source": [
    "f['FUEL'][0]['ORE']"
   ]
  }
 ],
 "metadata": {
  "kernelspec": {
   "display_name": "Python 3",
   "language": "python",
   "name": "python3"
  },
  "language_info": {
   "codemirror_mode": {
    "name": "ipython",
    "version": 3
   },
   "file_extension": ".py",
   "mimetype": "text/x-python",
   "name": "python",
   "nbconvert_exporter": "python",
   "pygments_lexer": "ipython3",
   "version": "3.7.0"
  }
 },
 "nbformat": 4,
 "nbformat_minor": 2
}

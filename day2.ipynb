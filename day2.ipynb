{
 "cells": [
  {
   "cell_type": "markdown",
   "metadata": {},
   "source": [
    "Part 1"
   ]
  },
  {
   "cell_type": "code",
   "execution_count": 29,
   "metadata": {},
   "outputs": [],
   "source": [
    "f = open('input_day2.txt',\"r\")\n",
    "line = f.readline()\n",
    "l = [int(i.strip()) for i in line.split(',')]"
   ]
  },
  {
   "cell_type": "code",
   "execution_count": 26,
   "metadata": {},
   "outputs": [],
   "source": [
    "l[1] = 12\n",
    "l[2] = 2"
   ]
  },
  {
   "cell_type": "code",
   "execution_count": 27,
   "metadata": {},
   "outputs": [],
   "source": [
    "i=0\n",
    "while l[i]!=99 and l[i+3]<=len(l):\n",
    "    if l[i] == 1:\n",
    "        l[l[i+3]] = l[l[i+1]] + l[l[i+2]]\n",
    "    elif l[i] == 2:\n",
    "        l[l[i+3]] = l[l[i+1]] * l[l[i+2]]\n",
    "    i=i+4"
   ]
  },
  {
   "cell_type": "code",
   "execution_count": 28,
   "metadata": {},
   "outputs": [
    {
     "data": {
      "text/plain": [
       "3790645"
      ]
     },
     "execution_count": 28,
     "metadata": {},
     "output_type": "execute_result"
    }
   ],
   "source": [
    "l[0]"
   ]
  },
  {
   "cell_type": "markdown",
   "metadata": {},
   "source": [
    "Part 2"
   ]
  },
  {
   "cell_type": "code",
   "execution_count": 2,
   "metadata": {},
   "outputs": [],
   "source": [
    "def computer(l):\n",
    "    i=0\n",
    "    while l[i]!=99 and l[i+3]<=len(l):\n",
    "        if l[i] == 1:\n",
    "            l[l[i+3]] = l[l[i+1]] + l[l[i+2]]\n",
    "        elif l[i] == 2:\n",
    "            l[l[i+3]] = l[l[i+1]] * l[l[i+2]]\n",
    "        i=i+4 \n",
    "    return l[0]"
   ]
  },
  {
   "cell_type": "code",
   "execution_count": 30,
   "metadata": {},
   "outputs": [],
   "source": [
    "original = l"
   ]
  },
  {
   "cell_type": "code",
   "execution_count": 37,
   "metadata": {},
   "outputs": [],
   "source": [
    "for noun in range(1,100):\n",
    "    for verb in range(1,100):\n",
    "        h = original.copy()\n",
    "        h[1] = noun\n",
    "        h[2] = verb\n",
    "        if computer(h)==19690720:\n",
    "            break\n",
    "    if computer(h)==19690720:\n",
    "        break"
   ]
  },
  {
   "cell_type": "code",
   "execution_count": 39,
   "metadata": {},
   "outputs": [
    {
     "data": {
      "text/plain": [
       "6577"
      ]
     },
     "execution_count": 39,
     "metadata": {},
     "output_type": "execute_result"
    }
   ],
   "source": [
    "100 * noun + verb"
   ]
  }
 ],
 "metadata": {
  "kernelspec": {
   "display_name": "Python 3",
   "language": "python",
   "name": "python3"
  },
  "language_info": {
   "codemirror_mode": {
    "name": "ipython",
    "version": 3
   },
   "file_extension": ".py",
   "mimetype": "text/x-python",
   "name": "python",
   "nbconvert_exporter": "python",
   "pygments_lexer": "ipython3",
   "version": "3.7.0"
  }
 },
 "nbformat": 4,
 "nbformat_minor": 2
}

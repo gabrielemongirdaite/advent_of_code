{
 "cells": [
  {
   "cell_type": "markdown",
   "metadata": {},
   "source": [
    "Part 1"
   ]
  },
  {
   "cell_type": "code",
   "execution_count": 1,
   "metadata": {},
   "outputs": [],
   "source": [
    "import pandas as pd\n",
    "from collections import defaultdict\n",
    "import math  "
   ]
  },
  {
   "cell_type": "code",
   "execution_count": 245,
   "metadata": {},
   "outputs": [],
   "source": [
    "df = pd.read_fwf('input_d10.txt', header = None)"
   ]
  },
  {
   "cell_type": "code",
   "execution_count": 246,
   "metadata": {},
   "outputs": [],
   "source": [
    "l= df.loc[:,0].tolist()"
   ]
  },
  {
   "cell_type": "code",
   "execution_count": 2,
   "metadata": {},
   "outputs": [],
   "source": [
    "def asteroids_coordinates(l):\n",
    "    coordinates = []\n",
    "    for y, i in enumerate(l):\n",
    "        for x, j in enumerate(i):\n",
    "            if j == '#':\n",
    "                z = round(float(x),2)\n",
    "                u = round(float(y),2)\n",
    "                coordinates.append((z,u))\n",
    "    return coordinates    "
   ]
  },
  {
   "cell_type": "code",
   "execution_count": 5,
   "metadata": {},
   "outputs": [],
   "source": [
    "def points(a1, a2):\n",
    "    p=[]\n",
    "    a1_n = a1 if a1[1]<=a2[1] else a2\n",
    "    a2_n = a2 if a1[1]<=a2[1] else a1\n",
    "    if a1[1]==a2[1]:\n",
    "        a1_n = a1 if a1[0]<=a2[0] else a2\n",
    "        a2_n = a2 if a1[0]<=a2[0] else a1\n",
    "    x1 = int(a1_n[0])\n",
    "    y1 = int(a1_n[1])\n",
    "    x2 = int(a2_n[0])\n",
    "    y2 = int(a2_n[1])\n",
    "    k = (y2-y1)/(x2-x1) if x2!=x1 else 0\n",
    "    a = y1-k*x1\n",
    "    for i in range(y1+1,y2):\n",
    "        p.append((round((i-a)/k,2) if k!=0 else round(float(x1),2),round(float(i),2) ))\n",
    "    if y1==y2:\n",
    "        for i in range(x1+1,x2):\n",
    "            p.append((round(float(i),2),round(float(y1),2)))\n",
    "    return p"
   ]
  },
  {
   "cell_type": "code",
   "execution_count": 6,
   "metadata": {},
   "outputs": [],
   "source": [
    "def asteroids_number(l):\n",
    "    asteroids = []\n",
    "    for i in asteroids_coordinates(l):\n",
    "        all_trajectories=[]\n",
    "        cnt=0\n",
    "        for j in asteroids_coordinates(l):\n",
    "            all_trajectories = (points(i, j))\n",
    "            if sum(el in asteroids_coordinates(l) for el in all_trajectories)!=0:\n",
    "                cnt = cnt-1\n",
    "        asteroids.append(len(asteroids_coordinates(l))-1+cnt)\n",
    "    return asteroids"
   ]
  },
  {
   "cell_type": "code",
   "execution_count": 7,
   "metadata": {},
   "outputs": [],
   "source": [
    "a = asteroids_number(l)"
   ]
  },
  {
   "cell_type": "code",
   "execution_count": 8,
   "metadata": {},
   "outputs": [
    {
     "data": {
      "text/plain": [
       "247"
      ]
     },
     "execution_count": 8,
     "metadata": {},
     "output_type": "execute_result"
    }
   ],
   "source": [
    "max(a)"
   ]
  },
  {
   "cell_type": "code",
   "execution_count": 9,
   "metadata": {},
   "outputs": [
    {
     "data": {
      "text/plain": [
       "(20.0, 21.0)"
      ]
     },
     "execution_count": 9,
     "metadata": {},
     "output_type": "execute_result"
    }
   ],
   "source": [
    "asteroids_coordinates(l)[a.index(max(a))]"
   ]
  },
  {
   "cell_type": "markdown",
   "metadata": {},
   "source": [
    "Part 2"
   ]
  },
  {
   "cell_type": "code",
   "execution_count": 228,
   "metadata": {},
   "outputs": [],
   "source": [
    "def get_ordered_list(p, x, y):\n",
    "    p.sort(key = lambda p: math.sqrt((p[0] - x)**2 + (p[1] - y)**2))\n",
    "    return p"
   ]
  },
  {
   "cell_type": "code",
   "execution_count": 293,
   "metadata": {},
   "outputs": [],
   "source": [
    "def points(monitoring_station, a2, l):\n",
    "    p=[]\n",
    "    a1_n = monitoring_station if monitoring_station[1]<=a2[1] else a2\n",
    "    a2_n = a2 if monitoring_station[1]<=a2[1] else monitoring_station\n",
    "    if monitoring_station[1]==a2[1]:\n",
    "        a1_n = monitoring_station if monitoring_station[0]<=a2[0] else a2\n",
    "        a2_n = a2 if monitoring_station[0]<=a2[0] else monitoring_station\n",
    "    x1 = int(a1_n[0])\n",
    "    y1 = int(a1_n[1])\n",
    "    x2 = int(a2_n[0])\n",
    "    y2 = int(a2_n[1])\n",
    "    k = (y2-y1)/(x2-x1) if x2!=x1 else 0\n",
    "    a = y1-k*x1\n",
    "    if monitoring_station[1]>=a2[1]:\n",
    "        for i in range(y1,y2):\n",
    "            p.append((round((i-a)/k,2) if k!=0 else round(float(x1),2),round(float(i),2) ))\n",
    "    else:\n",
    "        for i in range(y1+1,y2+1):\n",
    "            p.append((round((i-a)/k,2) if k!=0 else round(float(x1),2),round(float(i),2) ))\n",
    "    if y1==y2:\n",
    "        if monitoring_station[0]<=a2[0]:\n",
    "            for i in range(x1+1,x2+1):\n",
    "                p.append((round(float(i),5),round(float(y1),5)))\n",
    "        else:\n",
    "            for i in range(x1,x2):\n",
    "                p.append((round(float(i),5),round(float(y1),5)))\n",
    "    p.append(a2)\n",
    "    relevant = [el for el in asteroids_coordinates(l) if el in p]\n",
    "    relevant = get_ordered_list(relevant, monitoring_station[0], monitoring_station[1])\n",
    "    relevant = [(round(float(k),5), round(float(i[0]),5), round(float(i[1]),5)) for i in relevant]\n",
    "    return  list(dict.fromkeys(relevant))"
   ]
  },
  {
   "cell_type": "code",
   "execution_count": 294,
   "metadata": {},
   "outputs": [],
   "source": [
    "monitoring_station = (20,21)"
   ]
  },
  {
   "cell_type": "code",
   "execution_count": 295,
   "metadata": {},
   "outputs": [],
   "source": [
    "first = [t for t in asteroids_coordinates(l) if t[0]>monitoring_station[0] and t[1]<monitoring_station[1]] \n",
    "first0 = [t for t in asteroids_coordinates(l) if t[0]==monitoring_station[0] and t[1]<monitoring_station[1]]\n",
    "second = [t for t in asteroids_coordinates(l) if t[0]>monitoring_station[0] and t[1]>monitoring_station[1]] \n",
    "second0 = [t for t in asteroids_coordinates(l) if t[0]>monitoring_station[0] and t[1]==monitoring_station[1]] \n",
    "third = [t for t in asteroids_coordinates(l) if t[0]<monitoring_station[0] and t[1]>monitoring_station[1]] \n",
    "third0 = [t for t in asteroids_coordinates(l) if t[0]==monitoring_station[0] and t[1]>monitoring_station[1]]\n",
    "fourth = [t for t in asteroids_coordinates(l) if t[0]<monitoring_station[0] and t[1]<monitoring_station[1]] \n",
    "fourth0 = [t for t in asteroids_coordinates(l) if t[0]<monitoring_station[0] and t[1]==monitoring_station[1]] "
   ]
  },
  {
   "cell_type": "code",
   "execution_count": 296,
   "metadata": {},
   "outputs": [],
   "source": [
    "def points_dict(monitoring_station, area, l):\n",
    "    d = defaultdict(list)\n",
    "    for i in area:\n",
    "        for j in  points(monitoring_station, i, l):\n",
    "            d[j[0]].append((j[1],j[2]))\n",
    "            r = d[j[0]]\n",
    "            r = get_ordered_list(r, monitoring_station[0], monitoring_station[1])\n",
    "            r = list(dict.fromkeys(r))\n",
    "            d[j[0]] = r\n",
    "    return d"
   ]
  },
  {
   "cell_type": "code",
   "execution_count": 297,
   "metadata": {},
   "outputs": [],
   "source": [
    "def sorted_asteroids(d, sorting):\n",
    "    asteroids = []\n",
    "    for i in sorted (d, reverse=sorting) : \n",
    "        asteroids.append(d[i][0])\n",
    "        d[i].remove(d[i][0])\n",
    "    d = {k: v for k, v in d.items() if v !=[]}\n",
    "    return asteroids, d"
   ]
  },
  {
   "cell_type": "code",
   "execution_count": 298,
   "metadata": {},
   "outputs": [],
   "source": [
    "cnt = 0\n",
    "i=0\n",
    "d_first = points_dict(monitoring_station, first, l)\n",
    "d_first0 = points_dict(monitoring_station, first0, l)\n",
    "d_second = points_dict(monitoring_station, second, l)\n",
    "d_second0 = points_dict(monitoring_station, second0, l)\n",
    "d_third = points_dict(monitoring_station, third, l)\n",
    "d_third0 = points_dict(monitoring_station, third0, l)\n",
    "d_fourth = points_dict(monitoring_station, fourth, l)\n",
    "d_fourth0 = points_dict(monitoring_station, fourth0, l)\n",
    "asteroids_sorted = []\n",
    "while cnt<=200:\n",
    "    a = sorted_asteroids(d_first0, False)\n",
    "    asteroids_sorted.extend(a[0])\n",
    "    d_first0 = a[1]\n",
    "    \n",
    "    b = sorted_asteroids(d_first, False)\n",
    "    asteroids_sorted.extend(b[0])\n",
    "    d_first = b[1]\n",
    "    \n",
    "    c = sorted_asteroids(d_second0, False)\n",
    "    asteroids_sorted.extend(c[0])\n",
    "    d_second0 = c[1]\n",
    "    \n",
    "    \n",
    "    d = sorted_asteroids(d_second, False)\n",
    "    asteroids_sorted.extend(d[0])\n",
    "    d_second = d[1]\n",
    "    \n",
    "    e = sorted_asteroids(d_third0, False)\n",
    "    asteroids_sorted.extend(e[0])\n",
    "    d_third0 = e[1]\n",
    "    \n",
    "    f = sorted_asteroids(d_third, False)\n",
    "    asteroids_sorted.extend(f[0])\n",
    "    d_third = f[1]\n",
    "    \n",
    "    g = sorted_asteroids(d_fourth0, False)\n",
    "    asteroids_sorted.extend(g[0])\n",
    "    d_fourth0 = g[1]\n",
    "    \n",
    "    h = sorted_asteroids(d_fourth, False)\n",
    "    asteroids_sorted.extend(h[0])\n",
    "    d_fourth = h[1]\n",
    "    \n",
    "    cnt = len(asteroids_sorted)"
   ]
  },
  {
   "cell_type": "code",
   "execution_count": 302,
   "metadata": {},
   "outputs": [
    {
     "data": {
      "text/plain": [
       "1919.0"
      ]
     },
     "execution_count": 302,
     "metadata": {},
     "output_type": "execute_result"
    }
   ],
   "source": [
    "asteroids_sorted[199][0]*100+asteroids_sorted[199][1]"
   ]
  }
 ],
 "metadata": {
  "kernelspec": {
   "display_name": "Python 3",
   "language": "python",
   "name": "python3"
  },
  "language_info": {
   "codemirror_mode": {
    "name": "ipython",
    "version": 3
   },
   "file_extension": ".py",
   "mimetype": "text/x-python",
   "name": "python",
   "nbconvert_exporter": "python",
   "pygments_lexer": "ipython3",
   "version": "3.7.0"
  }
 },
 "nbformat": 4,
 "nbformat_minor": 2
}

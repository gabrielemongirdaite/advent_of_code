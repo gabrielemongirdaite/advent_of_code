{
 "cells": [
  {
   "cell_type": "markdown",
   "metadata": {},
   "source": [
    "Part 1"
   ]
  },
  {
   "cell_type": "code",
   "execution_count": 39,
   "metadata": {},
   "outputs": [],
   "source": [
    "f = open('input_d5.txt',\"r\")\n",
    "line = f.readline()\n",
    "l = [int(i.strip()) for i in line.split(',')]"
   ]
  },
  {
   "cell_type": "code",
   "execution_count": 8,
   "metadata": {},
   "outputs": [],
   "source": [
    "def get_digit(number, n):\n",
    "    return number // 10**n % 10"
   ]
  },
  {
   "cell_type": "code",
   "execution_count": 9,
   "metadata": {},
   "outputs": [],
   "source": [
    "def mode(l, idx, m):\n",
    "    if m == 0:\n",
    "        return l[l[idx]]\n",
    "    else:\n",
    "        return l[idx]"
   ]
  },
  {
   "cell_type": "code",
   "execution_count": 6,
   "metadata": {},
   "outputs": [],
   "source": [
    "def TEST(l, test_input):\n",
    "    i=0\n",
    "    while get_digit(l[i],0)!=99 and l[i+1]<=len(l):\n",
    "        opcode = get_digit(l[i],0)\n",
    "        mode1 = get_digit(l[i],2)\n",
    "        mode2 = get_digit(l[i],3)\n",
    "        if opcode == 1:\n",
    "            l[l[i+3]] = mode(l, i+1, mode1) + mode(l, i+2, mode2)\n",
    "            i = i+4\n",
    "        elif opcode == 2:\n",
    "            l[l[i+3]] = mode(l, i+1, mode1) * mode(l, i+2, mode2)\n",
    "            i = i+4\n",
    "        elif opcode == 3:\n",
    "            l[l[i+1]] = test_input\n",
    "            i = i+2\n",
    "        elif opcode == 4:\n",
    "            print(mode(l, i+1, mode1))\n",
    "            i = i+2\n",
    "        else:\n",
    "            return\n"
   ]
  },
  {
   "cell_type": "code",
   "execution_count": 10,
   "metadata": {},
   "outputs": [
    {
     "name": "stdout",
     "output_type": "stream",
     "text": [
      "0\n",
      "0\n",
      "0\n",
      "0\n",
      "0\n",
      "0\n",
      "0\n",
      "0\n",
      "0\n",
      "5346030\n"
     ]
    }
   ],
   "source": [
    "TEST(l,1)"
   ]
  },
  {
   "cell_type": "markdown",
   "metadata": {},
   "source": [
    "Part 2"
   ]
  },
  {
   "cell_type": "code",
   "execution_count": 40,
   "metadata": {},
   "outputs": [],
   "source": [
    "def TEST2(l, test_input):\n",
    "    i=0\n",
    "    while get_digit(l[i],0)!=99 and l[i+1]<=len(l):\n",
    "        opcode = get_digit(l[i],0)\n",
    "        mode1 = get_digit(l[i],2)\n",
    "        mode2 = get_digit(l[i],3)\n",
    "        mode3 = get_digit(l[i],4)\n",
    "        if opcode == 1:\n",
    "            l[l[i+3]] = mode(l, i+1, mode1) + mode(l, i+2, mode2)\n",
    "            i = i+4\n",
    "        elif opcode == 2:\n",
    "            l[l[i+3]] = mode(l, i+1, mode1) * mode(l, i+2, mode2)\n",
    "            i = i+4\n",
    "        elif opcode == 3:\n",
    "            l[l[i+1]] = test_input\n",
    "            i = i+2\n",
    "        elif opcode == 4:\n",
    "            print(mode(l, i+1, mode1))\n",
    "            i = i+2\n",
    "        elif opcode == 5:\n",
    "            if mode(l, i+1, mode1) != 0:\n",
    "                i = mode(l, i+2, mode2)\n",
    "            else:\n",
    "                i = i+3\n",
    "        elif opcode == 6:\n",
    "            if mode(l, i+1, mode1) == 0:\n",
    "                i = mode(l, i+2, mode2)\n",
    "            else:\n",
    "                i = i+3\n",
    "        elif opcode == 7:\n",
    "            if mode(l, i+1, mode1)<mode(l, i+2, mode2):\n",
    "                if mode3 == 0:\n",
    "                    l[l[i+3]] = 1\n",
    "                else:\n",
    "                    l[i+3] = 1\n",
    "            else:\n",
    "                if mode3 == 0:\n",
    "                    l[l[i+3]] = 0\n",
    "                else:\n",
    "                    l[i+3] = 0\n",
    "            i = i+4\n",
    "        elif opcode == 8:\n",
    "            if mode(l, i+1, mode1)==mode(l, i+2, mode2):\n",
    "                if mode3 == 0:\n",
    "                    l[l[i+3]] = 1\n",
    "                else:\n",
    "                    l[i+3] = 1\n",
    "            else:\n",
    "                if mode3 == 0:\n",
    "                    l[l[i+3]] = 0\n",
    "                else:\n",
    "                    l[i+3] = 0\n",
    "            i = i+4\n",
    "        else:\n",
    "            return"
   ]
  },
  {
   "cell_type": "code",
   "execution_count": 41,
   "metadata": {},
   "outputs": [
    {
     "name": "stdout",
     "output_type": "stream",
     "text": [
      "513116\n"
     ]
    }
   ],
   "source": [
    "TEST2(l,5)"
   ]
  }
 ],
 "metadata": {
  "kernelspec": {
   "display_name": "Python 3",
   "language": "python",
   "name": "python3"
  },
  "language_info": {
   "codemirror_mode": {
    "name": "ipython",
    "version": 3
   },
   "file_extension": ".py",
   "mimetype": "text/x-python",
   "name": "python",
   "nbconvert_exporter": "python",
   "pygments_lexer": "ipython3",
   "version": "3.7.0"
  }
 },
 "nbformat": 4,
 "nbformat_minor": 2
}

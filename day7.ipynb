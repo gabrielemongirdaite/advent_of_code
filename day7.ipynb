{
 "cells": [
  {
   "cell_type": "markdown",
   "metadata": {},
   "source": [
    "Part 1"
   ]
  },
  {
   "cell_type": "code",
   "execution_count": 1,
   "metadata": {},
   "outputs": [],
   "source": [
    "import itertools"
   ]
  },
  {
   "cell_type": "code",
   "execution_count": 2,
   "metadata": {},
   "outputs": [],
   "source": [
    "f = open('input_d7.txt',\"r\")\n",
    "line = f.readline()\n",
    "l = [int(i.strip()) for i in line.split(',')]"
   ]
  },
  {
   "cell_type": "code",
   "execution_count": 3,
   "metadata": {},
   "outputs": [],
   "source": [
    "def get_digit(number, n):\n",
    "    return number // 10**n % 10"
   ]
  },
  {
   "cell_type": "code",
   "execution_count": 4,
   "metadata": {},
   "outputs": [],
   "source": [
    "def mode(l, idx, m):\n",
    "    if m == 0:\n",
    "        return l[l[idx]]\n",
    "    else:\n",
    "        return l[idx]"
   ]
  },
  {
   "cell_type": "code",
   "execution_count": 5,
   "metadata": {},
   "outputs": [],
   "source": [
    "def TEST2(l, test_input, position):\n",
    "    i=position\n",
    "    j=0\n",
    "    while get_digit(l[i],0)!=99 and l[i+1]<=len(l):\n",
    "        opcode = get_digit(l[i],0)\n",
    "        mode1 = get_digit(l[i],2)\n",
    "        mode2 = get_digit(l[i],3)\n",
    "        mode3 = get_digit(l[i],4)\n",
    "        if opcode == 1:\n",
    "            l[l[i+3]] = mode(l, i+1, mode1) + mode(l, i+2, mode2)\n",
    "            i = i+4\n",
    "        elif opcode == 2:\n",
    "            l[l[i+3]] = mode(l, i+1, mode1) * mode(l, i+2, mode2)\n",
    "            i = i+4\n",
    "        elif opcode == 3:\n",
    "            l[l[i+1]] = test_input[j]\n",
    "            j = j+1\n",
    "            i = i+2\n",
    "        elif opcode == 4:\n",
    "            #print(mode(l, i+1, mode1))\n",
    "            result = mode(l, i+1, mode1)\n",
    "            i = i+2\n",
    "            return (result, i, l)\n",
    "        elif opcode == 5:\n",
    "            if mode(l, i+1, mode1) != 0:\n",
    "                i = mode(l, i+2, mode2)\n",
    "            else:\n",
    "                i = i+3\n",
    "        elif opcode == 6:\n",
    "            if mode(l, i+1, mode1) == 0:\n",
    "                i = mode(l, i+2, mode2)\n",
    "            else:\n",
    "                i = i+3\n",
    "        elif opcode == 7:\n",
    "            if mode(l, i+1, mode1)<mode(l, i+2, mode2):\n",
    "                if mode3 == 0:\n",
    "                    l[l[i+3]] = 1\n",
    "                else:\n",
    "                    l[i+3] = 1\n",
    "            else:\n",
    "                if mode3 == 0:\n",
    "                    l[l[i+3]] = 0\n",
    "                else:\n",
    "                    l[i+3] = 0\n",
    "            i = i+4\n",
    "        elif opcode == 8:\n",
    "            if mode(l, i+1, mode1)==mode(l, i+2, mode2):\n",
    "                if mode3 == 0:\n",
    "                    l[l[i+3]] = 1\n",
    "                else:\n",
    "                    l[i+3] = 1\n",
    "            else:\n",
    "                if mode3 == 0:\n",
    "                    l[l[i+3]] = 0\n",
    "                else:\n",
    "                    l[i+3] = 0\n",
    "            i = i+4\n",
    "        else:\n",
    "            return "
   ]
  },
  {
   "cell_type": "code",
   "execution_count": 6,
   "metadata": {},
   "outputs": [],
   "source": [
    "el = list(itertools.product([0,1,2,3,4],repeat = 5))"
   ]
  },
  {
   "cell_type": "code",
   "execution_count": 7,
   "metadata": {},
   "outputs": [],
   "source": [
    "el2 = el.copy()\n",
    "for i in el:\n",
    "    if len(set(i))!=5:\n",
    "        el2.remove(i)"
   ]
  },
  {
   "cell_type": "code",
   "execution_count": 8,
   "metadata": {},
   "outputs": [],
   "source": [
    "results = []\n",
    "for i in el2:\n",
    "    input_signal = 0\n",
    "    for j in range(0,5):\n",
    "        signal = TEST2(l, [i[j], input_signal],0)[0]\n",
    "        input_signal = signal\n",
    "    results.append(input_signal)"
   ]
  },
  {
   "cell_type": "code",
   "execution_count": 9,
   "metadata": {},
   "outputs": [
    {
     "data": {
      "text/plain": [
       "30940"
      ]
     },
     "execution_count": 9,
     "metadata": {},
     "output_type": "execute_result"
    }
   ],
   "source": [
    "max(results)"
   ]
  },
  {
   "cell_type": "markdown",
   "metadata": {},
   "source": [
    "Part 2"
   ]
  },
  {
   "cell_type": "code",
   "execution_count": 10,
   "metadata": {},
   "outputs": [],
   "source": [
    "f = open('input_d7.txt',\"r\")\n",
    "line = f.readline()\n",
    "l = [int(i.strip()) for i in line.split(',')]"
   ]
  },
  {
   "cell_type": "code",
   "execution_count": 11,
   "metadata": {},
   "outputs": [],
   "source": [
    "el3 = list(itertools.product([5,6,7,8,9],repeat = 5))"
   ]
  },
  {
   "cell_type": "code",
   "execution_count": 12,
   "metadata": {},
   "outputs": [],
   "source": [
    "el4 = el3.copy()\n",
    "for i in el3:\n",
    "    if len(set(i))!=5:\n",
    "        el4.remove(i)"
   ]
  },
  {
   "cell_type": "code",
   "execution_count": 13,
   "metadata": {},
   "outputs": [],
   "source": [
    "results = []\n",
    "for i in el4:\n",
    "    seq = []\n",
    "    positions = []\n",
    "    input_signal = 0\n",
    "    for j in range(0,5):\n",
    "        puzzle_input = l.copy()\n",
    "        k = TEST2(puzzle_input, [i[j], input_signal],0)\n",
    "        input_signal = k[0]\n",
    "        positions.append(k[1])\n",
    "        seq.append(k[2])\n",
    "    m = 0\n",
    "    while input_signal!=None:\n",
    "        for j in range(0,5):\n",
    "            puzzle_input = seq[j+5*m]\n",
    "            position = positions[j+5*m]\n",
    "            try:\n",
    "                k = TEST2(puzzle_input, [input_signal],position)\n",
    "            except IndexError:\n",
    "                k = None\n",
    "            if k==None:\n",
    "                input_signal_last = input_signal\n",
    "                input_signal = None\n",
    "                break\n",
    "            else:\n",
    "                input_signal = k[0]\n",
    "                positions.append(k[1])\n",
    "                seq.append(k[2])\n",
    "        m = m+1\n",
    "    results.append(input_signal_last)   "
   ]
  },
  {
   "cell_type": "code",
   "execution_count": 14,
   "metadata": {},
   "outputs": [
    {
     "data": {
      "text/plain": [
       "76211147"
      ]
     },
     "execution_count": 14,
     "metadata": {},
     "output_type": "execute_result"
    }
   ],
   "source": [
    "max(results)"
   ]
  }
 ],
 "metadata": {
  "kernelspec": {
   "display_name": "Python 3",
   "language": "python",
   "name": "python3"
  },
  "language_info": {
   "codemirror_mode": {
    "name": "ipython",
    "version": 3
   },
   "file_extension": ".py",
   "mimetype": "text/x-python",
   "name": "python",
   "nbconvert_exporter": "python",
   "pygments_lexer": "ipython3",
   "version": "3.7.0"
  }
 },
 "nbformat": 4,
 "nbformat_minor": 2
}

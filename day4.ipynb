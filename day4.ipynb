{
 "cells": [
  {
   "cell_type": "markdown",
   "metadata": {},
   "source": [
    "Part 1"
   ]
  },
  {
   "cell_type": "code",
   "execution_count": null,
   "metadata": {},
   "outputs": [],
   "source": [
    "cnt = 0\n",
    "for i1 in range(10):\n",
    "    for i2 in range(10):\n",
    "        for i3 in range(10):\n",
    "            for i4 in range(10):\n",
    "                for i5 in range(10):\n",
    "                    for i6 in range(10):\n",
    "                        number = i1*(10**5)+i2*(10**4)+i3*(10**3)+i4*(10**2)+i5*10+i6\n",
    "                        if number>=307237 and number<=769058 and (i1==i2 or i2==i3 or i3==i4 or i4==i5 or i5==i6) and i1<=i2 and i2<=i3 and i3<=i4 and i4<=i5 and i5<=i6:\n",
    "                            cnt = cnt+1"
   ]
  },
  {
   "cell_type": "code",
   "execution_count": 11,
   "metadata": {},
   "outputs": [
    {
     "data": {
      "text/plain": [
       "889"
      ]
     },
     "execution_count": 11,
     "metadata": {},
     "output_type": "execute_result"
    }
   ],
   "source": [
    "cnt"
   ]
  },
  {
   "cell_type": "markdown",
   "metadata": {},
   "source": [
    "Part 2"
   ]
  },
  {
   "cell_type": "code",
   "execution_count": 12,
   "metadata": {},
   "outputs": [],
   "source": [
    "cnt = 0\n",
    "for i1 in range(10):\n",
    "    for i2 in range(10):\n",
    "        for i3 in range(10):\n",
    "            for i4 in range(10):\n",
    "                for i5 in range(10):\n",
    "                    for i6 in range(10):\n",
    "                        number = i1*(10**5)+i2*(10**4)+i3*(10**3)+i4*(10**2)+i5*10+i6\n",
    "                        if number>=307237 and number<=769058 and ((i1==i2 and i2!=i3) or (i2==i3 and i2!=i1 and i2!=i4) or (i3==i4 and i3!=i2 and i3!=i5) or (i4==i5 and i4!=i3 and i4!=i6) or (i5==i6 and i5!=i4)) and i1<=i2 and i2<=i3 and i3<=i4 and i4<=i5 and i5<=i6:\n",
    "                            cnt = cnt+1"
   ]
  },
  {
   "cell_type": "code",
   "execution_count": 13,
   "metadata": {},
   "outputs": [
    {
     "data": {
      "text/plain": [
       "589"
      ]
     },
     "execution_count": 13,
     "metadata": {},
     "output_type": "execute_result"
    }
   ],
   "source": [
    "cnt"
   ]
  }
 ],
 "metadata": {
  "kernelspec": {
   "display_name": "Python 3",
   "language": "python",
   "name": "python3"
  },
  "language_info": {
   "codemirror_mode": {
    "name": "ipython",
    "version": 3
   },
   "file_extension": ".py",
   "mimetype": "text/x-python",
   "name": "python",
   "nbconvert_exporter": "python",
   "pygments_lexer": "ipython3",
   "version": "3.7.0"
  }
 },
 "nbformat": 4,
 "nbformat_minor": 2
}

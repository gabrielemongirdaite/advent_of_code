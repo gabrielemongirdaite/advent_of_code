{
 "cells": [
  {
   "cell_type": "markdown",
   "metadata": {},
   "source": [
    "Part 1"
   ]
  },
  {
   "cell_type": "code",
   "execution_count": 160,
   "metadata": {},
   "outputs": [],
   "source": [
    "f = open('input_d9.txt',\"r\")\n",
    "line = f.readline()\n",
    "l = [int(i.strip()) for i in line.split(',')]"
   ]
  },
  {
   "cell_type": "code",
   "execution_count": 145,
   "metadata": {},
   "outputs": [],
   "source": [
    "def get_digit(number, n):\n",
    "    return number // 10**n % 10"
   ]
  },
  {
   "cell_type": "code",
   "execution_count": 146,
   "metadata": {},
   "outputs": [],
   "source": [
    "def expand_list(l, idx):\n",
    "    if len(l)<idx:\n",
    "        l.extend([0] * (idx-len(l)+3))\n",
    "    return l"
   ]
  },
  {
   "cell_type": "code",
   "execution_count": 147,
   "metadata": {},
   "outputs": [],
   "source": [
    "def mode(l, idx, m, relative_base):\n",
    "    if m == 0:\n",
    "        l = expand_list(l, l[idx])\n",
    "        return l[l[idx]]\n",
    "    elif m == 1:\n",
    "        l = expand_list(l, idx)\n",
    "        return l[idx]\n",
    "    else:\n",
    "        l = expand_list(l, l[idx]+relative_base)\n",
    "        return l[l[idx]+relative_base]"
   ]
  },
  {
   "cell_type": "code",
   "execution_count": 156,
   "metadata": {},
   "outputs": [],
   "source": [
    "def l_update(l, idx, relative_base, mode, value):\n",
    "    m = max(l[idx], l[idx]+relative_base)\n",
    "    l = expand_list(l, m)\n",
    "    if mode == 0:\n",
    "        l[l[idx]] = value\n",
    "    elif mode == 1:\n",
    "        l[idx] = value\n",
    "    else:\n",
    "        l[l[idx]+relative_base] = value\n",
    "    return l"
   ]
  },
  {
   "cell_type": "code",
   "execution_count": 158,
   "metadata": {},
   "outputs": [],
   "source": [
    "def TEST2(l, test_input):\n",
    "    i=0\n",
    "    relative_base = 0\n",
    "    while get_digit(l[i],0)!=99:\n",
    "        opcode = get_digit(l[i],0)\n",
    "        mode1 = get_digit(l[i],2)\n",
    "        mode2 = get_digit(l[i],3)\n",
    "        mode3 = get_digit(l[i],4)\n",
    "        n1 = mode(l, i+1, mode1, relative_base)\n",
    "        n2 = mode(l, i+2, mode2, relative_base)\n",
    "        if opcode == 1:\n",
    "            l = l_update(l, i+3, relative_base, mode3, n1+n2)\n",
    "            i = i+4\n",
    "        elif opcode == 2:\n",
    "            l = l_update(l, i+3, relative_base, mode3, n1*n2)\n",
    "            i = i+4\n",
    "        elif opcode == 3:\n",
    "            l = l_update(l, i+1, relative_base, mode1, test_input)\n",
    "            i = i+2\n",
    "        elif opcode == 4:\n",
    "            print(n1)\n",
    "            i = i+2\n",
    "        elif opcode == 5:\n",
    "            if n1 != 0:\n",
    "                i = n2\n",
    "            else:\n",
    "                i = i+3\n",
    "        elif opcode == 6:\n",
    "            if n1 == 0:\n",
    "                i = n2\n",
    "            else:\n",
    "                i = i+3\n",
    "        elif opcode == 7:\n",
    "            if n1<n2:\n",
    "                l = l_update(l, i+3, relative_base, mode3, 1)\n",
    "            else:\n",
    "                l = l_update(l, i+3, relative_base, mode3, 0)\n",
    "            i = i+4\n",
    "        elif opcode == 8:\n",
    "            if n1==n2:\n",
    "                l = l_update(l, i+3, relative_base, mode3, 1)\n",
    "            else:\n",
    "                l = l_update(l, i+3, relative_base, mode3, 0)\n",
    "            i = i+4\n",
    "        elif opcode == 9:\n",
    "            relative_base = relative_base+n1\n",
    "            i = i+2\n",
    "        else:\n",
    "            return "
   ]
  },
  {
   "cell_type": "code",
   "execution_count": 159,
   "metadata": {},
   "outputs": [
    {
     "name": "stdout",
     "output_type": "stream",
     "text": [
      "3780860499\n"
     ]
    }
   ],
   "source": [
    "TEST2(l,1)\n",
    "#3780860499"
   ]
  },
  {
   "cell_type": "markdown",
   "metadata": {},
   "source": [
    "Part 2"
   ]
  },
  {
   "cell_type": "code",
   "execution_count": 161,
   "metadata": {},
   "outputs": [
    {
     "name": "stdout",
     "output_type": "stream",
     "text": [
      "33343\n",
      "203\n",
      "0\n"
     ]
    }
   ],
   "source": [
    "TEST2(l,2)"
   ]
  }
 ],
 "metadata": {
  "kernelspec": {
   "display_name": "Python 3",
   "language": "python",
   "name": "python3"
  },
  "language_info": {
   "codemirror_mode": {
    "name": "ipython",
    "version": 3
   },
   "file_extension": ".py",
   "mimetype": "text/x-python",
   "name": "python",
   "nbconvert_exporter": "python",
   "pygments_lexer": "ipython3",
   "version": "3.7.0"
  }
 },
 "nbformat": 4,
 "nbformat_minor": 2
}

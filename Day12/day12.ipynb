{
 "cells": [
  {
   "cell_type": "markdown",
   "metadata": {},
   "source": [
    "Part 1"
   ]
  },
  {
   "cell_type": "code",
   "execution_count": 7,
   "metadata": {},
   "outputs": [],
   "source": [
    "def setInitial():\n",
    "    global x_pos, y_pos, z_pos, x_vel, y_vel, z_vel\n",
    "    x_pos = [-10, 1, -15, 3]\n",
    "    y_pos = [-13, 2, -3, 7]\n",
    "    z_pos = [7, 1, 13, -4]\n",
    "    x_vel = [0,0,0,0]\n",
    "    y_vel = [0,0,0,0]\n",
    "    z_vel = [0,0,0,0]"
   ]
  },
  {
   "cell_type": "code",
   "execution_count": 8,
   "metadata": {},
   "outputs": [],
   "source": [
    "def comparison(moon, coordinate):\n",
    "    larger = len([1 for i in coordinate if i > coordinate[moon]])\n",
    "    smaller = len([1 for i in coordinate if i < coordinate[moon]])\n",
    "    return larger, smaller"
   ]
  },
  {
   "cell_type": "code",
   "execution_count": 9,
   "metadata": {},
   "outputs": [],
   "source": [
    "setInitial()\n",
    "for j in range(1000):\n",
    "    for i in range(4):\n",
    "        x_vel[i] = x_vel[i]+comparison(i, x_pos)[0]-comparison(i, x_pos)[1]\n",
    "        y_vel[i] = y_vel[i]+comparison(i, y_pos)[0]-comparison(i, y_pos)[1]\n",
    "        z_vel[i] = z_vel[i]+comparison(i, z_pos)[0]-comparison(i, z_pos)[1]\n",
    "    for i in range(4):\n",
    "        x_pos[i] = x_pos[i]+x_vel[i]\n",
    "        y_pos[i] = y_pos[i]+y_vel[i]\n",
    "        z_pos[i] = z_pos[i]+z_vel[i]"
   ]
  },
  {
   "cell_type": "code",
   "execution_count": 10,
   "metadata": {},
   "outputs": [],
   "source": [
    "cnt = 0\n",
    "for i in range(4):\n",
    "    cnt = cnt+(abs(x_pos[i])+abs(y_pos[i])+abs(z_pos[i]))*(abs(x_vel[i])+abs(y_vel[i])+abs(z_vel[i]))"
   ]
  },
  {
   "cell_type": "code",
   "execution_count": 11,
   "metadata": {
    "scrolled": true
   },
   "outputs": [
    {
     "data": {
      "text/plain": [
       "8454"
      ]
     },
     "execution_count": 11,
     "metadata": {},
     "output_type": "execute_result"
    }
   ],
   "source": [
    "cnt"
   ]
  },
  {
   "cell_type": "markdown",
   "metadata": {},
   "source": [
    "Part 2"
   ]
  },
  {
   "cell_type": "code",
   "execution_count": 12,
   "metadata": {},
   "outputs": [],
   "source": [
    "x_pos_initial = [-10, 1, -15, 3]\n",
    "y_pos_initial = [-13, 2, -3, 7]\n",
    "z_pos_initial = [7, 1, 13, -4]\n",
    "\n",
    "x_vel_initial = [0,0,0,0]\n",
    "y_vel_initial = [0,0,0,0]\n",
    "z_vel_initial = [0,0,0,0]"
   ]
  },
  {
   "cell_type": "code",
   "execution_count": 13,
   "metadata": {},
   "outputs": [],
   "source": [
    "def repeats_itself(initial_pos, current_pos, initial_vel, current_vel):\n",
    "    j=0\n",
    "    while (initial_pos!=current_pos or initial_vel!=current_vel) or j==0:\n",
    "        for i in range(4):\n",
    "            x_vel[i] = x_vel[i]+comparison(i, x_pos)[0]-comparison(i, x_pos)[1]\n",
    "            y_vel[i] = y_vel[i]+comparison(i, y_pos)[0]-comparison(i, y_pos)[1]\n",
    "            z_vel[i] = z_vel[i]+comparison(i, z_pos)[0]-comparison(i, z_pos)[1]\n",
    "        for i in range(4):\n",
    "            x_pos[i] = x_pos[i]+x_vel[i]\n",
    "            y_pos[i] = y_pos[i]+y_vel[i]\n",
    "            z_pos[i] = z_pos[i]+z_vel[i]\n",
    "        j = j+1\n",
    "    return j"
   ]
  },
  {
   "cell_type": "code",
   "execution_count": 14,
   "metadata": {},
   "outputs": [],
   "source": [
    "setInitial()\n",
    "j1 = repeats_itself(x_pos_initial, x_pos, x_vel_initial, x_vel)\n",
    "setInitial()\n",
    "j2 = repeats_itself(y_pos_initial, y_pos, y_vel_initial, y_vel)\n",
    "setInitial()\n",
    "j3 = repeats_itself(z_pos_initial, z_pos, z_vel_initial, z_vel)"
   ]
  },
  {
   "cell_type": "code",
   "execution_count": 15,
   "metadata": {},
   "outputs": [
    {
     "name": "stdout",
     "output_type": "stream",
     "text": [
      "362336016722948\n"
     ]
    }
   ],
   "source": [
    "from math import gcd\n",
    "a = [j1, j2, j3]   #will work for an int array of any length\n",
    "lcm = a[0]\n",
    "for i in a[1:]:\n",
    "    lcm = lcm*i//gcd(lcm, i)\n",
    "print(lcm)"
   ]
  }
 ],
 "metadata": {
  "kernelspec": {
   "display_name": "Python 3",
   "language": "python",
   "name": "python3"
  },
  "language_info": {
   "codemirror_mode": {
    "name": "ipython",
    "version": 3
   },
   "file_extension": ".py",
   "mimetype": "text/x-python",
   "name": "python",
   "nbconvert_exporter": "python",
   "pygments_lexer": "ipython3",
   "version": "3.7.0"
  }
 },
 "nbformat": 4,
 "nbformat_minor": 2
}

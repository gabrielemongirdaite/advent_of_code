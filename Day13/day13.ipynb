{
 "cells": [
  {
   "cell_type": "markdown",
   "metadata": {},
   "source": [
    "Part 1"
   ]
  },
  {
   "cell_type": "code",
   "execution_count": 1,
   "metadata": {},
   "outputs": [],
   "source": [
    "import intcode as intcode"
   ]
  },
  {
   "cell_type": "code",
   "execution_count": 6,
   "metadata": {},
   "outputs": [],
   "source": [
    "f = open('input_d13.txt',\"r\")\n",
    "line = f.readline()\n",
    "l = [int(i.strip()) for i in line.split(',')]\n",
    "l = {k: v for k,v in enumerate(l)}"
   ]
  },
  {
   "cell_type": "code",
   "execution_count": 3,
   "metadata": {},
   "outputs": [],
   "source": [
    "sequence = intcode.TEST2(l, 0, 0, 0)"
   ]
  },
  {
   "cell_type": "code",
   "execution_count": 4,
   "metadata": {},
   "outputs": [],
   "source": [
    "i=0\n",
    "coordinates = []\n",
    "tiles = []\n",
    "while i!=len(sequence):\n",
    "    try:\n",
    "        idx = coordinates.index((sequence[i], sequence[i+1]))\n",
    "        tiles[idx] = sequence[i+2]\n",
    "    except:\n",
    "        coordinates.append((sequence[i], sequence[i+1]))\n",
    "        tiles.append(sequence[i+2])\n",
    "    i = i+3"
   ]
  },
  {
   "cell_type": "code",
   "execution_count": 5,
   "metadata": {},
   "outputs": [
    {
     "data": {
      "text/plain": [
       "333"
      ]
     },
     "execution_count": 5,
     "metadata": {},
     "output_type": "execute_result"
    }
   ],
   "source": [
    "tiles.count(2)"
   ]
  },
  {
   "cell_type": "markdown",
   "metadata": {},
   "source": [
    "Part 2"
   ]
  },
  {
   "cell_type": "code",
   "execution_count": 7,
   "metadata": {},
   "outputs": [
    {
     "ename": "TypeError",
     "evalue": "'NoneType' object is not subscriptable",
     "output_type": "error",
     "traceback": [
      "\u001b[1;31m---------------------------------------------------------------------------\u001b[0m",
      "\u001b[1;31mTypeError\u001b[0m                                 Traceback (most recent call last)",
      "\u001b[1;32m<ipython-input-7-db613b9671ae>\u001b[0m in \u001b[0;36m<module>\u001b[1;34m()\u001b[0m\n\u001b[0;32m     12\u001b[0m \u001b[1;32mwhile\u001b[0m \u001b[0ma\u001b[0m\u001b[1;33m!=\u001b[0m\u001b[1;32mNone\u001b[0m\u001b[1;33m:\u001b[0m\u001b[1;33m\u001b[0m\u001b[0m\n\u001b[0;32m     13\u001b[0m     \u001b[0ma\u001b[0m \u001b[1;33m=\u001b[0m \u001b[0mintcode\u001b[0m\u001b[1;33m.\u001b[0m\u001b[0mTEST3\u001b[0m\u001b[1;33m(\u001b[0m\u001b[0ml\u001b[0m\u001b[1;33m,\u001b[0m \u001b[0minp\u001b[0m\u001b[1;33m,\u001b[0m \u001b[0mstarting_point\u001b[0m\u001b[1;33m,\u001b[0m \u001b[0mrelative_base\u001b[0m\u001b[1;33m)\u001b[0m\u001b[1;33m\u001b[0m\u001b[0m\n\u001b[1;32m---> 14\u001b[1;33m     \u001b[0msequence\u001b[0m \u001b[1;33m=\u001b[0m \u001b[0ma\u001b[0m\u001b[1;33m[\u001b[0m\u001b[1;36m0\u001b[0m\u001b[1;33m]\u001b[0m\u001b[1;33m\u001b[0m\u001b[0m\n\u001b[0m\u001b[0;32m     15\u001b[0m     \u001b[0ml\u001b[0m \u001b[1;33m=\u001b[0m \u001b[0ma\u001b[0m\u001b[1;33m[\u001b[0m\u001b[1;36m1\u001b[0m\u001b[1;33m]\u001b[0m\u001b[1;33m\u001b[0m\u001b[0m\n\u001b[0;32m     16\u001b[0m     \u001b[0mstarting_point\u001b[0m \u001b[1;33m=\u001b[0m \u001b[0ma\u001b[0m\u001b[1;33m[\u001b[0m\u001b[1;36m2\u001b[0m\u001b[1;33m]\u001b[0m\u001b[1;33m\u001b[0m\u001b[0m\n",
      "\u001b[1;31mTypeError\u001b[0m: 'NoneType' object is not subscriptable"
     ]
    }
   ],
   "source": [
    "j=0\n",
    "coordinates = []\n",
    "tiles = []\n",
    "ball_x = 0\n",
    "padle_x = 0\n",
    "l[0]=2\n",
    "starting_point = 0\n",
    "inp = 0\n",
    "relative_base = 0\n",
    "points = 0\n",
    "a=0\n",
    "while a!=None:\n",
    "    a = intcode.TEST3(l, inp, starting_point, relative_base)\n",
    "    sequence = a[0]\n",
    "    l = a[1]\n",
    "    starting_point = a[2]\n",
    "    relative_base = a[3]\n",
    "    if sequence[2]==4:\n",
    "        ball_x = sequence[0]\n",
    "    elif sequence[2]==3:\n",
    "        padle_x = sequence[0]\n",
    "    if ball_x>padle_x:\n",
    "        inp = 1\n",
    "    elif ball_x<padle_x:\n",
    "        inp = -1\n",
    "    else:\n",
    "        inp = 0\n",
    "    #print(sequence)\n",
    "    if sequence[0]==-1 and sequence[1]==0:\n",
    "        points = sequence[2]\n",
    "    else:\n",
    "        try:\n",
    "            idx = coordinates.index((sequence[0], sequence[1]))\n",
    "            tiles[idx] = sequence[2]\n",
    "        except:\n",
    "            coordinates.append((sequence[0], sequence[1]))\n",
    "            tiles.append(sequence[2])\n",
    "    j = j+1"
   ]
  },
  {
   "cell_type": "code",
   "execution_count": 8,
   "metadata": {},
   "outputs": [
    {
     "data": {
      "text/plain": [
       "16539"
      ]
     },
     "execution_count": 8,
     "metadata": {},
     "output_type": "execute_result"
    }
   ],
   "source": [
    "points"
   ]
  }
 ],
 "metadata": {
  "kernelspec": {
   "display_name": "Python 3",
   "language": "python",
   "name": "python3"
  },
  "language_info": {
   "codemirror_mode": {
    "name": "ipython",
    "version": 3
   },
   "file_extension": ".py",
   "mimetype": "text/x-python",
   "name": "python",
   "nbconvert_exporter": "python",
   "pygments_lexer": "ipython3",
   "version": "3.7.0"
  }
 },
 "nbformat": 4,
 "nbformat_minor": 2
}
